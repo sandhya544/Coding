{
  "nbformat": 4,
  "nbformat_minor": 0,
  "metadata": {
    "colab": {
      "provenance": [],
      "authorship_tag": "ABX9TyPsTxuEZehIw25Vp7CeXVAe",
      "include_colab_link": true
    },
    "kernelspec": {
      "name": "python3",
      "display_name": "Python 3"
    },
    "language_info": {
      "name": "python"
    }
  },
  "cells": [
    {
      "cell_type": "markdown",
      "metadata": {
        "id": "view-in-github",
        "colab_type": "text"
      },
      "source": [
        "<a href=\"https://colab.research.google.com/github/sandhya544/Coding/blob/master/python_s30.ipynb\" target=\"_parent\"><img src=\"https://colab.research.google.com/assets/colab-badge.svg\" alt=\"Open In Colab\"/></a>"
      ]
    },
    {
      "cell_type": "markdown",
      "source": [
        "1)REVERSE THE STATEMENT"
      ],
      "metadata": {
        "id": "epIWkii2ujm4"
      }
    },
    {
      "cell_type": "code",
      "execution_count": null,
      "metadata": {
        "colab": {
          "base_uri": "https://localhost:8080/"
        },
        "id": "AZuMiiOIuQ5x",
        "outputId": "3ea6b368-5d11-499e-8555-3f46829a965b"
      },
      "outputs": [
        {
          "output_type": "stream",
          "name": "stdout",
          "text": [
            "Super30 to Welcome\n"
          ]
        }
      ],
      "source": [
        "s=\"Welcome to Super30\".split()\n",
        "n=\"\"\n",
        "for i in s[::-1]:\n",
        "  n+=i+\" \"\n",
        "res=n[:-1]\n",
        "print(res)"
      ]
    },
    {
      "cell_type": "markdown",
      "source": [
        "2)square of a numbers in range"
      ],
      "metadata": {
        "id": "xHw4ME5Lvz7u"
      }
    },
    {
      "cell_type": "code",
      "source": [
        "start=int(input(\"start:\"))\n",
        "stop=int(input(\"stop:\"))\n",
        "for i in range(start,stop):\n",
        "  print(i**2)"
      ],
      "metadata": {
        "colab": {
          "base_uri": "https://localhost:8080/"
        },
        "id": "N71pXNysv58f",
        "outputId": "9495735a-9f13-4ad1-8998-f82c22e43025"
      },
      "execution_count": null,
      "outputs": [
        {
          "output_type": "stream",
          "name": "stdout",
          "text": [
            "start:5\n",
            "stop:10\n",
            "25\n",
            "36\n",
            "49\n",
            "64\n",
            "81\n"
          ]
        }
      ]
    },
    {
      "cell_type": "markdown",
      "source": [
        "You are given two non-empty linked lists representing two non-negative integers. The digits are stored in reverse order, and each of their nodes contains a single digit. Add the two numbers and return the sum as a linked list.\n",
        "Input: l1 = [2,4,3], l2 = [5,6,4]\n",
        "Output: [7,0,8]\n",
        "Explanation: 342 + 465 = 807.\n",
        "Example 2:\n",
        "\n",
        "Input: l1 = [0], l2 = [0]\n",
        "Output: [0]"
      ],
      "metadata": {
        "id": "0nSaokaGs4m2"
      }
    },
    {
      "cell_type": "code",
      "source": [
        "l1=[9,9,9,9,9,9,9]\n",
        "l2=[9,9,9,9]\n",
        "s1=\"\"\n",
        "s2=\"\"\n",
        "for i in range(len(l1)):\n",
        "    s1+=str(l1[i])\n",
        "for i in range(len(l2)):\n",
        "    s2+=str(l2[i])\n",
        "sum=int(s1)+int(s2)\n",
        "s=str(sum)\n",
        "l=[]\n",
        "for i in s:\n",
        "    l.append(int(i))\n",
        "l.reverse()\n",
        "print(l)"
      ],
      "metadata": {
        "colab": {
          "base_uri": "https://localhost:8080/"
        },
        "id": "KCEHAV19sjCr",
        "outputId": "3641d0d0-fa3d-4024-b2e4-4b7d98bc90c4"
      },
      "execution_count": null,
      "outputs": [
        {
          "output_type": "stream",
          "name": "stdout",
          "text": [
            "[8, 9, 9, 9, 0, 0, 0, 1]\n"
          ]
        }
      ]
    },
    {
      "cell_type": "code",
      "source": [
        "n1=\"11\"\n",
        "n2=\"124\"\n",
        "n1=int(n1)\n",
        "n2=int(n2)\n",
        "res=n1+n2\n",
        "print(str(res))"
      ],
      "metadata": {
        "id": "1tpy_3GxvOtG",
        "colab": {
          "base_uri": "https://localhost:8080/"
        },
        "outputId": "70ff165b-b5a1-4371-bf10-039f9e8c7805"
      },
      "execution_count": 3,
      "outputs": [
        {
          "output_type": "stream",
          "name": "stdout",
          "text": [
            "135\n"
          ]
        }
      ]
    },
    {
      "cell_type": "markdown",
      "source": [
        "missing number in a list"
      ],
      "metadata": {
        "id": "-h6HyyFPSm_r"
      }
    },
    {
      "cell_type": "code",
      "source": [
        "l1=[1,0,3]\n",
        "k=0\n",
        "for i in range(len(l1)+1):\n",
        "  if i not in l1:\n",
        "    k+=i\n",
        "print(k)\n",
        "\n"
      ],
      "metadata": {
        "colab": {
          "base_uri": "https://localhost:8080/"
        },
        "id": "wU9Ke0GnR261",
        "outputId": "770c047c-d877-4939-cef2-0014246b1c19"
      },
      "execution_count": 5,
      "outputs": [
        {
          "output_type": "stream",
          "name": "stdout",
          "text": [
            "2\n"
          ]
        }
      ]
    },
    {
      "cell_type": "markdown",
      "source": [
        "happy number\n",
        "n=19\n",
        "1**2+9**2=82\n",
        "8**2+2**2=68\n",
        "6**2+8**2=100\n",
        "1**2+0**2+0**2=1"
      ],
      "metadata": {
        "id": "wNDVgk6fSxBV"
      }
    },
    {
      "cell_type": "code",
      "source": [
        "n=int(input())\n",
        "s=0\n",
        "while(n>5):\n",
        "  s=0\n",
        "  while(n!=0):\n",
        "    rem=n%10\n",
        "    s=s+rem**2\n",
        "    n=n//10\n",
        "  n=s\n",
        "if s==1:\n",
        "  print(\"Happy number\")\n",
        "else:\n",
        "  print(\"Not a happy number\")\n"
      ],
      "metadata": {
        "colab": {
          "base_uri": "https://localhost:8080/"
        },
        "id": "6Hw5UqMYR20R",
        "outputId": "5b8521c8-7513-4f3b-d10d-9b50656b7db7"
      },
      "execution_count": 15,
      "outputs": [
        {
          "output_type": "stream",
          "name": "stdout",
          "text": [
            "19\n",
            "Happy number\n"
          ]
        }
      ]
    }
  ]
}