{
  "nbformat": 4,
  "nbformat_minor": 0,
  "metadata": {
    "colab": {
      "provenance": [],
      "authorship_tag": "ABX9TyP4qCjFYcBjNcVm4+Fjy3uV"
    },
    "kernelspec": {
      "name": "python3",
      "display_name": "Python 3"
    },
    "language_info": {
      "name": "python"
    }
  },
  "cells": [
    {
      "cell_type": "markdown",
      "source": [
        "1)REVERSE THE STATEMENT"
      ],
      "metadata": {
        "id": "epIWkii2ujm4"
      }
    },
    {
      "cell_type": "code",
      "execution_count": 9,
      "metadata": {
        "colab": {
          "base_uri": "https://localhost:8080/"
        },
        "id": "AZuMiiOIuQ5x",
        "outputId": "3ea6b368-5d11-499e-8555-3f46829a965b"
      },
      "outputs": [
        {
          "output_type": "stream",
          "name": "stdout",
          "text": [
            "Super30 to Welcome\n"
          ]
        }
      ],
      "source": [
        "s=\"Welcome to Super30\".split()\n",
        "n=\"\"\n",
        "for i in s[::-1]:\n",
        "  n+=i+\" \"\n",
        "res=n[:-1]\n",
        "print(res)"
      ]
    },
    {
      "cell_type": "markdown",
      "source": [
        "2)square of a numbers in range"
      ],
      "metadata": {
        "id": "xHw4ME5Lvz7u"
      }
    },
    {
      "cell_type": "code",
      "source": [
        "start=int(input(\"start:\"))\n",
        "stop=int(input(\"stop:\"))\n",
        "for i in range(start,stop):\n",
        "  print(i**2)"
      ],
      "metadata": {
        "colab": {
          "base_uri": "https://localhost:8080/"
        },
        "id": "N71pXNysv58f",
        "outputId": "9495735a-9f13-4ad1-8998-f82c22e43025"
      },
      "execution_count": 11,
      "outputs": [
        {
          "output_type": "stream",
          "name": "stdout",
          "text": [
            "start:5\n",
            "stop:10\n",
            "25\n",
            "36\n",
            "49\n",
            "64\n",
            "81\n"
          ]
        }
      ]
    }
  ]
}