{
  "nbformat": 4,
  "nbformat_minor": 0,
  "metadata": {
    "colab": {
      "provenance": [],
      "authorship_tag": "ABX9TyO5wPyYJLpBhoLcj13XnPG7",
      "include_colab_link": true
    },
    "kernelspec": {
      "name": "python3",
      "display_name": "Python 3"
    },
    "language_info": {
      "name": "python"
    }
  },
  "cells": [
    {
      "cell_type": "markdown",
      "metadata": {
        "id": "view-in-github",
        "colab_type": "text"
      },
      "source": [
        "<a href=\"https://colab.research.google.com/github/sandhya544/Coding/blob/master/python_s30.ipynb\" target=\"_parent\"><img src=\"https://colab.research.google.com/assets/colab-badge.svg\" alt=\"Open In Colab\"/></a>"
      ]
    },
    {
      "cell_type": "markdown",
      "source": [
        "1)REVERSE THE STATEMENT"
      ],
      "metadata": {
        "id": "epIWkii2ujm4"
      }
    },
    {
      "cell_type": "code",
      "execution_count": null,
      "metadata": {
        "colab": {
          "base_uri": "https://localhost:8080/"
        },
        "id": "AZuMiiOIuQ5x",
        "outputId": "3ea6b368-5d11-499e-8555-3f46829a965b"
      },
      "outputs": [
        {
          "output_type": "stream",
          "name": "stdout",
          "text": [
            "Super30 to Welcome\n"
          ]
        }
      ],
      "source": [
        "s=\"Welcome to Super30\".split()\n",
        "n=\"\"\n",
        "for i in s[::-1]:\n",
        "  n+=i+\" \"\n",
        "res=n[:-1]\n",
        "print(res)"
      ]
    },
    {
      "cell_type": "markdown",
      "source": [
        "2)square of a numbers in range"
      ],
      "metadata": {
        "id": "xHw4ME5Lvz7u"
      }
    },
    {
      "cell_type": "code",
      "source": [
        "start=int(input(\"start:\"))\n",
        "stop=int(input(\"stop:\"))\n",
        "for i in range(start,stop):\n",
        "  print(i**2)"
      ],
      "metadata": {
        "colab": {
          "base_uri": "https://localhost:8080/"
        },
        "id": "N71pXNysv58f",
        "outputId": "9495735a-9f13-4ad1-8998-f82c22e43025"
      },
      "execution_count": null,
      "outputs": [
        {
          "output_type": "stream",
          "name": "stdout",
          "text": [
            "start:5\n",
            "stop:10\n",
            "25\n",
            "36\n",
            "49\n",
            "64\n",
            "81\n"
          ]
        }
      ]
    },
    {
      "cell_type": "markdown",
      "source": [
        "You are given two non-empty linked lists representing two non-negative integers. The digits are stored in reverse order, and each of their nodes contains a single digit. Add the two numbers and return the sum as a linked list.\n",
        "Input: l1 = [2,4,3], l2 = [5,6,4]\n",
        "Output: [7,0,8]\n",
        "Explanation: 342 + 465 = 807.\n",
        "Example 2:\n",
        "\n",
        "Input: l1 = [0], l2 = [0]\n",
        "Output: [0]"
      ],
      "metadata": {
        "id": "0nSaokaGs4m2"
      }
    },
    {
      "cell_type": "code",
      "source": [
        "l1=[9,9,9,9,9,9,9]\n",
        "l2=[9,9,9,9]\n",
        "s1=\"\"\n",
        "s2=\"\"\n",
        "for i in range(len(l1)):\n",
        "    s1+=str(l1[i])\n",
        "for i in range(len(l2)):\n",
        "    s2+=str(l2[i])\n",
        "sum=int(s1)+int(s2)\n",
        "s=str(sum)\n",
        "l=[]\n",
        "for i in s:\n",
        "    l.append(int(i))\n",
        "l.reverse()\n",
        "print(l)"
      ],
      "metadata": {
        "colab": {
          "base_uri": "https://localhost:8080/"
        },
        "id": "KCEHAV19sjCr",
        "outputId": "3641d0d0-fa3d-4024-b2e4-4b7d98bc90c4"
      },
      "execution_count": null,
      "outputs": [
        {
          "output_type": "stream",
          "name": "stdout",
          "text": [
            "[8, 9, 9, 9, 0, 0, 0, 1]\n"
          ]
        }
      ]
    },
    {
      "cell_type": "code",
      "source": [
        "n1=\"11\"\n",
        "n2=\"124\"\n",
        "n1=int(n1)\n",
        "n2=int(n2)\n",
        "res=n1+n2\n",
        "print(str(res))"
      ],
      "metadata": {
        "id": "1tpy_3GxvOtG",
        "colab": {
          "base_uri": "https://localhost:8080/"
        },
        "outputId": "70ff165b-b5a1-4371-bf10-039f9e8c7805"
      },
      "execution_count": null,
      "outputs": [
        {
          "output_type": "stream",
          "name": "stdout",
          "text": [
            "135\n"
          ]
        }
      ]
    },
    {
      "cell_type": "markdown",
      "source": [
        "missing number in a list"
      ],
      "metadata": {
        "id": "-h6HyyFPSm_r"
      }
    },
    {
      "cell_type": "code",
      "source": [
        "l1=[1,0,]\n",
        "k=0\n",
        "for i in range(len(l1)+1):\n",
        "  if i not in l1:\n",
        "    k+=i\n",
        "print(k)\n",
        "\n"
      ],
      "metadata": {
        "colab": {
          "base_uri": "https://localhost:8080/"
        },
        "id": "wU9Ke0GnR261",
        "outputId": "1cd59d01-7d25-4db7-d9e4-c361627497b4"
      },
      "execution_count": null,
      "outputs": [
        {
          "output_type": "stream",
          "name": "stdout",
          "text": [
            "2\n"
          ]
        }
      ]
    },
    {
      "cell_type": "markdown",
      "source": [
        "happy number\n",
        "n=19\n",
        "1**2+9**2=82\n",
        "8**2+2**2=68\n",
        "6**2+8**2=100\n",
        "1**2+0**2+0**2=1"
      ],
      "metadata": {
        "id": "wNDVgk6fSxBV"
      }
    },
    {
      "cell_type": "code",
      "source": [
        "n=int(input())\n",
        "s=0\n",
        "while(n>5):\n",
        "  s=0\n",
        "  while(n!=0):\n",
        "    rem=n%10\n",
        "    s=s+rem**2\n",
        "    n=n//10\n",
        "  n=s\n",
        "if s==1:\n",
        "  print(\"Happy number\")\n",
        "else:\n",
        "  print(\"Not a happy number\")\n"
      ],
      "metadata": {
        "colab": {
          "base_uri": "https://localhost:8080/"
        },
        "id": "6Hw5UqMYR20R",
        "outputId": "5b8521c8-7513-4f3b-d10d-9b50656b7db7"
      },
      "execution_count": null,
      "outputs": [
        {
          "output_type": "stream",
          "name": "stdout",
          "text": [
            "19\n",
            "Happy number\n"
          ]
        }
      ]
    },
    {
      "cell_type": "markdown",
      "source": [
        "second max"
      ],
      "metadata": {
        "id": "YFyZlUU06dOt"
      }
    },
    {
      "cell_type": "code",
      "source": [
        "arr=[2,3,6,6,5]\n",
        "s=set(arr)\n",
        "k=[]\n",
        "for i in s:\n",
        "    k.append(int(i))\n",
        "k.sort()\n",
        "print(k[-2])"
      ],
      "metadata": {
        "colab": {
          "base_uri": "https://localhost:8080/"
        },
        "id": "lxG_avYm091d",
        "outputId": "d0f323d5-d00c-4d6c-afd1-ec21e952853b"
      },
      "execution_count": null,
      "outputs": [
        {
          "output_type": "stream",
          "name": "stdout",
          "text": [
            "5\n"
          ]
        }
      ]
    },
    {
      "cell_type": "markdown",
      "source": [
        "Perfect number"
      ],
      "metadata": {
        "id": "DcVzTtOCznak"
      }
    },
    {
      "cell_type": "code",
      "source": [
        "n=int(input())\n",
        "s=0\n",
        "for i in range(1,n):\n",
        "  if n%i==0:\n",
        "    s=s+i\n",
        "if s==n:\n",
        "  print(\"perfect\")\n",
        "else:\n",
        "  print(\"Not perfect\")"
      ],
      "metadata": {
        "colab": {
          "base_uri": "https://localhost:8080/"
        },
        "id": "LKtrpWj8zpex",
        "outputId": "1965215f-ff52-4417-dedd-5d5fbc281fcb"
      },
      "execution_count": null,
      "outputs": [
        {
          "output_type": "stream",
          "name": "stdout",
          "text": [
            "28\n",
            "perfect\n"
          ]
        }
      ]
    },
    {
      "cell_type": "markdown",
      "source": [
        "how many even length numbers"
      ],
      "metadata": {
        "id": "NmxC--Cz6h4y"
      }
    },
    {
      "cell_type": "code",
      "source": [
        "nums=[12,345,2,6,7896]\n",
        "s=[]\n",
        "c=0\n",
        "for i in nums:\n",
        "    s.append(str(i))\n",
        "for j in s:\n",
        "    if len(j)%2==0:\n",
        "       c=c+1\n",
        "print(c)"
      ],
      "metadata": {
        "colab": {
          "base_uri": "https://localhost:8080/"
        },
        "id": "19_7DDfH040t",
        "outputId": "03265c0e-bde0-4b7b-cfdc-6fe33b78ca7f"
      },
      "execution_count": null,
      "outputs": [
        {
          "output_type": "stream",
          "name": "stdout",
          "text": [
            "2\n"
          ]
        }
      ]
    },
    {
      "cell_type": "markdown",
      "source": [
        "return how many zeros in last of a number"
      ],
      "metadata": {
        "id": "5Fe60rVEBnBA"
      }
    },
    {
      "cell_type": "code",
      "source": [
        "n=int(input())\n",
        "s=str(n)\n",
        "n1=s[::-1]\n",
        "print(n1)\n",
        "c=0\n",
        "for i in n1:\n",
        "  if i=='0':\n",
        "    c+=1\n",
        "  else:\n",
        "    break\n",
        "print(c)\n",
        "\n"
      ],
      "metadata": {
        "colab": {
          "base_uri": "https://localhost:8080/"
        },
        "id": "nMqmVxlw42BQ",
        "outputId": "c3b7914f-2187-4b59-d628-1f6740890fc0"
      },
      "execution_count": 9,
      "outputs": [
        {
          "output_type": "stream",
          "name": "stdout",
          "text": [
            "48000\n",
            "00084\n",
            "3\n"
          ]
        }
      ]
    },
    {
      "cell_type": "markdown",
      "source": [
        "return how many zeros in last of a number using function"
      ],
      "metadata": {
        "id": "X58WeijnBu9b"
      }
    },
    {
      "cell_type": "code",
      "source": [
        "def num(n):\n",
        "  s=str(n)\n",
        "  n1=s[::-1]\n",
        "  c=0\n",
        "  for i in n1:\n",
        "    if i=='0':\n",
        "      c=c+1\n",
        "    else:\n",
        "      break\n",
        "  return c\n",
        "v=int(input())\n",
        "num(v)\n",
        "\n"
      ],
      "metadata": {
        "colab": {
          "base_uri": "https://localhost:8080/"
        },
        "id": "N37hUqIK587C",
        "outputId": "613efeb0-9286-4b77-f9a5-9219e7bb9cfb"
      },
      "execution_count": 10,
      "outputs": [
        {
          "name": "stdout",
          "output_type": "stream",
          "text": [
            "48000\n"
          ]
        },
        {
          "output_type": "execute_result",
          "data": {
            "text/plain": [
              "3"
            ]
          },
          "metadata": {},
          "execution_count": 10
        }
      ]
    },
    {
      "cell_type": "markdown",
      "source": [
        "lcm and hcf"
      ],
      "metadata": {
        "id": "O5omPuc6BzI2"
      }
    },
    {
      "cell_type": "code",
      "source": [
        "a=20\n",
        "b=15\n",
        "l=[]\n",
        "for i in range(1,b+1):\n",
        "  if a%i==0 and b%i==0:\n",
        "    l.append(i)\n",
        "hcf=max(l)\n",
        "print(hcf)\n",
        "lcm=(a*b)/hcf\n",
        "print(lcm)\n",
        "\n"
      ],
      "metadata": {
        "colab": {
          "base_uri": "https://localhost:8080/"
        },
        "id": "tHCTPS7zA3tt",
        "outputId": "c5a890c4-118a-41bf-df9f-e84bf0df80b0"
      },
      "execution_count": 12,
      "outputs": [
        {
          "output_type": "stream",
          "name": "stdout",
          "text": [
            "5\n",
            "60.0\n"
          ]
        }
      ]
    },
    {
      "cell_type": "markdown",
      "source": [
        "DS:Queue"
      ],
      "metadata": {
        "id": "hySpBwemB3TV"
      }
    },
    {
      "cell_type": "code",
      "source": [
        "queue=[]\n",
        "def enqueue():\n",
        "  element=int(input(\"enter element:\"))\n",
        "  queue.append(element)\n",
        "  print(queue)\n",
        "def dequeue():\n",
        "  if not queue:\n",
        "    print(\"Queueu is empty\")\n",
        "  else:\n",
        "    queue.pop(0)\n",
        "    print(\"Element is removed\")\n",
        "    print(queue)\n",
        "while True:\n",
        "  print(\"enter your choice 1.Add 2.Remove 3.Quit\")\n",
        "  choice=int(input())\n",
        "  if choice==1:\n",
        "    enqueue()\n",
        "  elif choice==2:\n",
        "    dequeue()\n",
        "  elif choice==3:\n",
        "    break\n",
        "  else:\n",
        "    print(\"Enter correct operation\")"
      ],
      "metadata": {
        "colab": {
          "base_uri": "https://localhost:8080/"
        },
        "id": "HvVcTlgPBlL0",
        "outputId": "5c5d6188-fe03-4801-a910-5c0f21fd6b38"
      },
      "execution_count": 13,
      "outputs": [
        {
          "name": "stdout",
          "output_type": "stream",
          "text": [
            "enter your choice 1.Add 2.Remove 3.Quit\n",
            "1\n",
            "enter element:40\n",
            "[40]\n",
            "enter your choice 1.Add 2.Remove 3.Quit\n",
            "1\n",
            "enter element:20\n",
            "[40, 20]\n",
            "enter your choice 1.Add 2.Remove 3.Quit\n",
            "1\n",
            "enter element:30\n",
            "[40, 20, 30]\n",
            "enter your choice 1.Add 2.Remove 3.Quit\n",
            "2\n",
            "Element is removed\n",
            "[20, 30]\n",
            "enter your choice 1.Add 2.Remove 3.Quit\n",
            "3\n"
          ]
        }
      ]
    },
    {
      "cell_type": "markdown",
      "source": [
        "Ds:Stack"
      ],
      "metadata": {
        "id": "BqU8qq_sDxs_"
      }
    },
    {
      "cell_type": "code",
      "source": [
        "stack=[]\n",
        "def push():\n",
        "  element=int(input(\"enter element:\"))\n",
        "  stack.append(element)\n",
        "  print(stack)\n",
        "def pop():\n",
        "  if not stack:\n",
        "    print(\"Queueu is empty\")\n",
        "  else:\n",
        "    stack.pop()\n",
        "    print(\"Element is removed\")\n",
        "    print(stack)\n",
        "while True:\n",
        "  print(\"enter your choice 1.Add 2.Remove 3.Quit\")\n",
        "  choice=int(input())\n",
        "  if choice==1:\n",
        "    push()\n",
        "  elif choice==2:\n",
        "    pop()\n",
        "  elif choice==3:\n",
        "    break\n",
        "  else:\n",
        "    print(\"Enter correct operation\")"
      ],
      "metadata": {
        "colab": {
          "base_uri": "https://localhost:8080/"
        },
        "id": "w14fId7yD9yc",
        "outputId": "0ba2fb78-9cba-4261-ed30-b2fb16e9e389"
      },
      "execution_count": 14,
      "outputs": [
        {
          "name": "stdout",
          "output_type": "stream",
          "text": [
            "enter your choice 1.Add 2.Remove 3.Quit\n",
            "1\n",
            "enter element:10\n",
            "[10]\n",
            "enter your choice 1.Add 2.Remove 3.Quit\n",
            "1\n",
            "enter element:20\n",
            "[10, 20]\n",
            "enter your choice 1.Add 2.Remove 3.Quit\n",
            "1\n",
            "enter element:30\n",
            "[10, 20, 30]\n",
            "enter your choice 1.Add 2.Remove 3.Quit\n",
            "2\n",
            "Element is removed\n",
            "[10, 20]\n",
            "enter your choice 1.Add 2.Remove 3.Quit\n",
            "3\n"
          ]
        }
      ]
    },
    {
      "cell_type": "code",
      "source": [
        "n=int(input(\"Enter size:\"))\n",
        "def total(l):\n",
        "  t=sum(l)\n",
        "  print(t)\n",
        "if n==6:\n",
        "  l=[20,40,50]\n",
        "  total(l)\n",
        "elif n==7:\n",
        "  l=[30,40,35]\n",
        "  total(l)\n",
        "elif n==8:\n",
        "  l=[33,29,30]\n",
        "  total(l)\n",
        "else:\n",
        "  print(\"size is not available\")\n"
      ],
      "metadata": {
        "colab": {
          "base_uri": "https://localhost:8080/"
        },
        "id": "vyD_RRppLQmF",
        "outputId": "8a544a2e-1b30-4e92-bcaa-0d06d6214966"
      },
      "execution_count": 17,
      "outputs": [
        {
          "output_type": "stream",
          "name": "stdout",
          "text": [
            "Enter size:7\n",
            "105\n"
          ]
        }
      ]
    },
    {
      "cell_type": "code",
      "source": [
        "X=int(input())\n",
        "l=map(int,input().split())\n",
        "l1=list(l)\n",
        "N=int(input())\n",
        "total=0\n",
        "for i in range(N):\n",
        "    size,rate=map(int,input().split())\n",
        "    if size in l1:\n",
        "        total+=rate\n",
        "        l1.remove(size)\n",
        "print(total)"
      ],
      "metadata": {
        "colab": {
          "base_uri": "https://localhost:8080/"
        },
        "id": "WmjRJ4JRWNpJ",
        "outputId": "2e2f70ae-7ad5-439e-f927-1485e690f5bb"
      },
      "execution_count": 19,
      "outputs": [
        {
          "output_type": "stream",
          "name": "stdout",
          "text": [
            "10\n",
            "2 3 4 5 6 8 7 6 5 18\n",
            "6\n",
            "6 55\n",
            "6 45\n",
            "6 55\n",
            "4 40\n",
            "18 60\n",
            "10 50\n",
            "200\n"
          ]
        }
      ]
    },
    {
      "cell_type": "code",
      "source": [],
      "metadata": {
        "id": "iCmid0gmYWKv"
      },
      "execution_count": null,
      "outputs": []
    }
  ]
}