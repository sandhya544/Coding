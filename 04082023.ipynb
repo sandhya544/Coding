{
  "nbformat": 4,
  "nbformat_minor": 0,
  "metadata": {
    "colab": {
      "provenance": [],
      "authorship_tag": "ABX9TyMlKKyCXwrpJ01QclAsBxQL"
    },
    "kernelspec": {
      "name": "python3",
      "display_name": "Python 3"
    },
    "language_info": {
      "name": "python"
    }
  },
  "cells": [
    {
      "cell_type": "markdown",
      "source": [
        "keep Zeros in the middle"
      ],
      "metadata": {
        "id": "R6zetZJPw2VP"
      }
    },
    {
      "cell_type": "code",
      "execution_count": 9,
      "metadata": {
        "colab": {
          "base_uri": "https://localhost:8080/"
        },
        "id": "SU3KQkEfvWjC",
        "outputId": "9001ddca-209c-4e03-e90f-37a1e687a27a"
      },
      "outputs": [
        {
          "output_type": "stream",
          "name": "stdout",
          "text": [
            "[1, 3, 0, 5, 2]\n"
          ]
        }
      ],
      "source": [
        "n=[1,3,5,2,0]\n",
        "n1=[]\n",
        "n2=[]\n",
        "for i in n:\n",
        "  if i==0:\n",
        "    n1.append(i)\n",
        "  else:\n",
        "    n2.append(i)\n",
        "l=int(len(n2)/2)\n",
        "print(n2[:l]+n1+n2[l:])\n",
        "\n"
      ]
    },
    {
      "cell_type": "markdown",
      "source": [
        "print wierd or not wierd based on conditions"
      ],
      "metadata": {
        "id": "K2iqljV3w9Cn"
      }
    },
    {
      "cell_type": "code",
      "source": [
        "n=int(input())\n",
        "if n%2==0:\n",
        "  if n>6 and n<=20:\n",
        "    print(\"Wierd\")\n",
        "  else:\n",
        "    print(\"Not Wierd\")\n",
        "else:\n",
        "  print(\"Wierd\")"
      ],
      "metadata": {
        "colab": {
          "base_uri": "https://localhost:8080/"
        },
        "id": "FUf8hxvQxDox",
        "outputId": "0a3c0f41-7276-4508-e5ad-0f5712599198"
      },
      "execution_count": 10,
      "outputs": [
        {
          "output_type": "stream",
          "name": "stdout",
          "text": [
            "4\n",
            "Not Wierd\n"
          ]
        }
      ]
    }
  ]
}